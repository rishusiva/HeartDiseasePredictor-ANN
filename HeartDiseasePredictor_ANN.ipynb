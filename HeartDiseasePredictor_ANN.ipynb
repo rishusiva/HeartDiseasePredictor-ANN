{
 "cells": [
  {
   "cell_type": "markdown",
   "metadata": {},
   "source": [
    "## Heart Disease Predictor using Artificial Neural Networks "
   ]
  },
  {
   "cell_type": "markdown",
   "metadata": {},
   "source": [
    "Artificial Neural Networks model created to predict if a person will get heart disease or not."
   ]
  },
  {
   "cell_type": "markdown",
   "metadata": {},
   "source": [
    "Reference link for the dataset - https://archive.ics.uci.edu/ml/datasets/Statlog+%28Heart%29"
   ]
  },
  {
   "cell_type": "markdown",
   "metadata": {},
   "source": [
    "## Gathering dataset and importing necessary modules"
   ]
  },
  {
   "cell_type": "code",
   "execution_count": 31,
   "metadata": {},
   "outputs": [
    {
     "data": {
      "text/html": [
       "<div>\n",
       "<style scoped>\n",
       "    .dataframe tbody tr th:only-of-type {\n",
       "        vertical-align: middle;\n",
       "    }\n",
       "\n",
       "    .dataframe tbody tr th {\n",
       "        vertical-align: top;\n",
       "    }\n",
       "\n",
       "    .dataframe thead th {\n",
       "        text-align: right;\n",
       "    }\n",
       "</style>\n",
       "<table border=\"1\" class=\"dataframe\">\n",
       "  <thead>\n",
       "    <tr style=\"text-align: right;\">\n",
       "      <th></th>\n",
       "      <th>age</th>\n",
       "      <th>sex</th>\n",
       "      <th>chest_pain</th>\n",
       "      <th>resting_blood_pressure</th>\n",
       "      <th>serum_cholestoral</th>\n",
       "      <th>fasting_blood_sugar</th>\n",
       "      <th>resting_ecg_results</th>\n",
       "      <th>max_heart_rate_achieved</th>\n",
       "      <th>exercise_induced_angina</th>\n",
       "      <th>oldpeak</th>\n",
       "      <th>slope of the peak</th>\n",
       "      <th>num_of_major_vessels</th>\n",
       "      <th>thal</th>\n",
       "      <th>heart_disease</th>\n",
       "    </tr>\n",
       "  </thead>\n",
       "  <tbody>\n",
       "    <tr>\n",
       "      <th>0</th>\n",
       "      <td>70.0</td>\n",
       "      <td>1.0</td>\n",
       "      <td>4.0</td>\n",
       "      <td>130.0</td>\n",
       "      <td>322.0</td>\n",
       "      <td>0.0</td>\n",
       "      <td>2.0</td>\n",
       "      <td>109.0</td>\n",
       "      <td>0.0</td>\n",
       "      <td>2.4</td>\n",
       "      <td>2.0</td>\n",
       "      <td>3.0</td>\n",
       "      <td>3.0</td>\n",
       "      <td>2</td>\n",
       "    </tr>\n",
       "    <tr>\n",
       "      <th>1</th>\n",
       "      <td>67.0</td>\n",
       "      <td>0.0</td>\n",
       "      <td>3.0</td>\n",
       "      <td>115.0</td>\n",
       "      <td>564.0</td>\n",
       "      <td>0.0</td>\n",
       "      <td>2.0</td>\n",
       "      <td>160.0</td>\n",
       "      <td>0.0</td>\n",
       "      <td>1.6</td>\n",
       "      <td>2.0</td>\n",
       "      <td>0.0</td>\n",
       "      <td>7.0</td>\n",
       "      <td>1</td>\n",
       "    </tr>\n",
       "    <tr>\n",
       "      <th>2</th>\n",
       "      <td>57.0</td>\n",
       "      <td>1.0</td>\n",
       "      <td>2.0</td>\n",
       "      <td>124.0</td>\n",
       "      <td>261.0</td>\n",
       "      <td>0.0</td>\n",
       "      <td>0.0</td>\n",
       "      <td>141.0</td>\n",
       "      <td>0.0</td>\n",
       "      <td>0.3</td>\n",
       "      <td>1.0</td>\n",
       "      <td>0.0</td>\n",
       "      <td>7.0</td>\n",
       "      <td>2</td>\n",
       "    </tr>\n",
       "    <tr>\n",
       "      <th>3</th>\n",
       "      <td>64.0</td>\n",
       "      <td>1.0</td>\n",
       "      <td>4.0</td>\n",
       "      <td>128.0</td>\n",
       "      <td>263.0</td>\n",
       "      <td>0.0</td>\n",
       "      <td>0.0</td>\n",
       "      <td>105.0</td>\n",
       "      <td>1.0</td>\n",
       "      <td>0.2</td>\n",
       "      <td>2.0</td>\n",
       "      <td>1.0</td>\n",
       "      <td>7.0</td>\n",
       "      <td>1</td>\n",
       "    </tr>\n",
       "    <tr>\n",
       "      <th>4</th>\n",
       "      <td>74.0</td>\n",
       "      <td>0.0</td>\n",
       "      <td>2.0</td>\n",
       "      <td>120.0</td>\n",
       "      <td>269.0</td>\n",
       "      <td>0.0</td>\n",
       "      <td>2.0</td>\n",
       "      <td>121.0</td>\n",
       "      <td>1.0</td>\n",
       "      <td>0.2</td>\n",
       "      <td>1.0</td>\n",
       "      <td>1.0</td>\n",
       "      <td>3.0</td>\n",
       "      <td>1</td>\n",
       "    </tr>\n",
       "  </tbody>\n",
       "</table>\n",
       "</div>"
      ],
      "text/plain": [
       "    age  sex  chest_pain  resting_blood_pressure  serum_cholestoral  \\\n",
       "0  70.0  1.0         4.0                   130.0              322.0   \n",
       "1  67.0  0.0         3.0                   115.0              564.0   \n",
       "2  57.0  1.0         2.0                   124.0              261.0   \n",
       "3  64.0  1.0         4.0                   128.0              263.0   \n",
       "4  74.0  0.0         2.0                   120.0              269.0   \n",
       "\n",
       "   fasting_blood_sugar  resting_ecg_results  max_heart_rate_achieved  \\\n",
       "0                  0.0                  2.0                    109.0   \n",
       "1                  0.0                  2.0                    160.0   \n",
       "2                  0.0                  0.0                    141.0   \n",
       "3                  0.0                  0.0                    105.0   \n",
       "4                  0.0                  2.0                    121.0   \n",
       "\n",
       "   exercise_induced_angina  oldpeak  slope of the peak  num_of_major_vessels  \\\n",
       "0                      0.0      2.4                2.0                   3.0   \n",
       "1                      0.0      1.6                2.0                   0.0   \n",
       "2                      0.0      0.3                1.0                   0.0   \n",
       "3                      1.0      0.2                2.0                   1.0   \n",
       "4                      1.0      0.2                1.0                   1.0   \n",
       "\n",
       "   thal  heart_disease  \n",
       "0   3.0              2  \n",
       "1   7.0              1  \n",
       "2   7.0              2  \n",
       "3   7.0              1  \n",
       "4   3.0              1  "
      ]
     },
     "execution_count": 31,
     "metadata": {},
     "output_type": "execute_result"
    }
   ],
   "source": [
    "#Importing Pandas module\n",
    "import csv\n",
    "import pandas as pd\n",
    "\n",
    "#Add header names\n",
    "headers =  ['age', 'sex','chest_pain','resting_blood_pressure',  \n",
    "        'serum_cholestoral', 'fasting_blood_sugar', 'resting_ecg_results',\n",
    "        'max_heart_rate_achieved', 'exercise_induced_angina', 'oldpeak',\"slope of the peak\",\n",
    "        'num_of_major_vessels','thal', 'heart_disease']\n",
    "\n",
    "#Import dataset in the form of a dataframe\n",
    "heart_df = pd.read_csv('heart.dat', sep=' ', names=headers)\n",
    "\n",
    "#Looking at the first five rows of the dataset\n",
    "heart_df.head()"
   ]
  },
  {
   "cell_type": "markdown",
   "metadata": {},
   "source": [
    "## Data Cleaning"
   ]
  },
  {
   "cell_type": "code",
   "execution_count": 32,
   "metadata": {},
   "outputs": [
    {
     "data": {
      "text/plain": [
       "(270, 14)"
      ]
     },
     "execution_count": 32,
     "metadata": {},
     "output_type": "execute_result"
    }
   ],
   "source": [
    "#Getting shape of the data\n",
    "heart_df.shape"
   ]
  },
  {
   "cell_type": "code",
   "execution_count": 33,
   "metadata": {},
   "outputs": [
    {
     "data": {
      "text/plain": [
       "age                        0\n",
       "sex                        0\n",
       "chest_pain                 0\n",
       "resting_blood_pressure     0\n",
       "serum_cholestoral          0\n",
       "fasting_blood_sugar        0\n",
       "resting_ecg_results        0\n",
       "max_heart_rate_achieved    0\n",
       "exercise_induced_angina    0\n",
       "oldpeak                    0\n",
       "slope of the peak          0\n",
       "num_of_major_vessels       0\n",
       "thal                       0\n",
       "heart_disease              0\n",
       "dtype: int64"
      ]
     },
     "execution_count": 33,
     "metadata": {},
     "output_type": "execute_result"
    }
   ],
   "source": [
    "#Looking for the null values through the dataset because neural net require non null variables\n",
    "heart_df.isna().sum()"
   ]
  },
  {
   "cell_type": "markdown",
   "metadata": {},
   "source": [
    "## Splitting the dataset into training and test parts"
   ]
  },
  {
   "cell_type": "code",
   "execution_count": 34,
   "metadata": {},
   "outputs": [
    {
     "name": "stdout",
     "output_type": "stream",
     "text": [
      "Shape of train set is (216, 13)\n",
      "Shape of test set is (54, 13)\n",
      "Shape of train label is (216, 1)\n",
      "Shape of test labels is (54, 1)\n"
     ]
    }
   ],
   "source": [
    "#Importing essential packages\n",
    "import numpy as np\n",
    "import matplotlib.pyplot as plt\n",
    "from sklearn.model_selection import train_test_split\n",
    "from sklearn.preprocessing import StandardScaler\n",
    "import warnings\n",
    "warnings.filterwarnings(\"ignore\")\n",
    "\n",
    "#Splitting data into independant and depedant variables\n",
    "\n",
    "X = heart_df.drop(columns=['heart_disease']) #Independant data variables\n",
    "\n",
    "#replace target class with 0 and 1 \n",
    "#1 means \"have heart disease\" and 0 means \"do not have heart disease\"\n",
    "heart_df['heart_disease'] = heart_df['heart_disease'].replace(1, 0)\n",
    "heart_df['heart_disease'] = heart_df['heart_disease'].replace(2, 1)\n",
    "\n",
    "y_label = heart_df['heart_disease'].values.reshape(X.shape[0], 1) #Dependant or target variable\n",
    "\n",
    "#Split data into train and test set\n",
    "Xtrain, Xtest, ytrain, ytest = train_test_split(X, y_label, test_size=0.2, random_state=2)\n",
    "\n",
    "#Standardize the dataset\n",
    "sc = StandardScaler()\n",
    "sc.fit(Xtrain)\n",
    "Xtrain = sc.transform(Xtrain)\n",
    "Xtest = sc.transform(Xtest)\n",
    "\n",
    "print(f\"Shape of train set is {Xtrain.shape}\")\n",
    "print(f\"Shape of test set is {Xtest.shape}\")\n",
    "print(f\"Shape of train label is {ytrain.shape}\")\n",
    "print(f\"Shape of test labels is {ytest.shape}\")"
   ]
  },
  {
   "cell_type": "markdown",
   "metadata": {},
   "source": [
    "## Building Artificial Neural Networks Model from scratch"
   ]
  },
  {
   "cell_type": "code",
   "execution_count": 35,
   "metadata": {},
   "outputs": [],
   "source": [
    "\n",
    "class NeuralNet():\n",
    "    '''\n",
    "    A two layer neural network\n",
    "    '''\n",
    "        \n",
    "    def __init__(self, layers=[13,8,1], learning_rate=0.001, iterations=100):\n",
    "        self.params = {}\n",
    "        self.learning_rate = learning_rate\n",
    "        self.iterations = iterations\n",
    "        self.loss = []\n",
    "        self.sample_size = None\n",
    "        self.layers = layers\n",
    "        self.X = None\n",
    "        self.y = None\n",
    "                \n",
    "    def init_weights(self):\n",
    "        '''\n",
    "        Initialize the weights from a random normal distribution\n",
    "        '''\n",
    "        np.random.seed(1) # Seed the random number generator\n",
    "        self.params[\"W1\"] = np.random.randn(self.layers[0], self.layers[1]) \n",
    "        self.params['b1']  =np.random.randn(self.layers[1],)\n",
    "        self.params['W2'] = np.random.randn(self.layers[1],self.layers[2]) \n",
    "        self.params['b2'] = np.random.randn(self.layers[2],)\n",
    "        \n",
    "    def relu(self,Z):\n",
    "        '''\n",
    "        The ReLu activation function is to performs a threshold\n",
    "        operation to each input element where values less \n",
    "        than zero are set to zero.\n",
    "        '''\n",
    "        return np.maximum(0,Z)\n",
    "    \n",
    "    def sigmoid(self,Z):\n",
    "        '''\n",
    "        The sigmoid function takes in real numbers in any range and \n",
    "        squashes it to a real-valued output between 0 and 1.\n",
    "        '''\n",
    "        return 1.0/(1.0+np.exp(-Z))\n",
    "    \n",
    "    def entropy_loss(self,y, yhat):\n",
    "        nsample = len(y)\n",
    "        loss = -1/nsample * (np.sum(np.multiply(np.log(yhat), y) + np.multiply((1 - y), np.log(1 - yhat))))\n",
    "        return loss\n",
    "    \n",
    "    def forward_propagation(self):\n",
    "        '''\n",
    "        Performs the forward propagation\n",
    "        '''\n",
    "        \n",
    "        Z1 = self.X.dot(self.params['W1']) + self.params['b1']\n",
    "        A1 = self.relu(Z1)\n",
    "        Z2 = A1.dot(self.params['W2']) + self.params['b2']\n",
    "        yhat = self.sigmoid(Z2)\n",
    "        loss = self.entropy_loss(self.y,yhat)\n",
    "\n",
    "        # save calculated parameters     \n",
    "        self.params['Z1'] = Z1\n",
    "        self.params['Z2'] = Z2\n",
    "        self.params['A1'] = A1\n",
    "\n",
    "        return yhat,loss\n",
    "    \n",
    "    def back_propagation(self,yhat):\n",
    "        '''\n",
    "        Computes the derivatives and update weights and bias according.\n",
    "        '''\n",
    "        def dRelu(x):\n",
    "            x[x<=0] = 0\n",
    "            x[x>0] = 1\n",
    "            return x\n",
    "        \n",
    "        dl_wrt_yhat = -(np.divide(self.y,yhat) - np.divide((1 - self.y),(1-yhat)))\n",
    "        dl_wrt_sig = yhat * (1-yhat)\n",
    "        dl_wrt_z2 = dl_wrt_yhat * dl_wrt_sig\n",
    "\n",
    "        dl_wrt_A1 = dl_wrt_z2.dot(self.params['W2'].T)\n",
    "        dl_wrt_w2 = self.params['A1'].T.dot(dl_wrt_z2)\n",
    "        dl_wrt_b2 = np.sum(dl_wrt_z2, axis=0)\n",
    "\n",
    "        dl_wrt_z1 = dl_wrt_A1 * dRelu(self.params['Z1'])\n",
    "        dl_wrt_w1 = self.X.T.dot(dl_wrt_z1)\n",
    "        dl_wrt_b1 = np.sum(dl_wrt_z1, axis=0)\n",
    "        \n",
    "        #update the weights and bias\n",
    "        self.params['W1'] = self.params['W1'] - self.learning_rate * dl_wrt_w1\n",
    "        self.params['W2'] = self.params['W2'] - self.learning_rate * dl_wrt_w2\n",
    "        self.params['b1'] = self.params['b1'] - self.learning_rate * dl_wrt_b1\n",
    "        self.params['b2'] = self.params['b2'] - self.learning_rate * dl_wrt_b2\n",
    "        \n",
    "    \n",
    "    def fit(self, X, y):\n",
    "        '''\n",
    "        Trains the neural network using the specified data and labels\n",
    "        '''\n",
    "        self.X = X\n",
    "        self.y = y\n",
    "        self.init_weights() #initialize weights and bias\n",
    "\n",
    "\n",
    "        for i in range(self.iterations):\n",
    "            yhat, loss = self.forward_propagation()\n",
    "            self.back_propagation(yhat)\n",
    "            self.loss.append(loss)\n",
    "            \n",
    "    def predict(self, X):\n",
    "        '''\n",
    "        Predicts on a test data\n",
    "        '''\n",
    "        Z1 = X.dot(self.params['W1']) + self.params['b1']\n",
    "        A1 = self.relu(Z1)\n",
    "        Z2 = A1.dot(self.params['W2']) + self.params['b2']\n",
    "        pred = self.sigmoid(Z2)\n",
    "        return np.round(pred) \n",
    "    \n",
    "    def acc(self, y, yhat):\n",
    "        '''\n",
    "        Calculates the accuracy between the predicted value and the truth labels\n",
    "        '''\n",
    "        acc = int(sum(y == yhat) / len(y) * 100)\n",
    "        return acc\n",
    "\n",
    "\n",
    "    def plot_loss(self):\n",
    "        '''\n",
    "        Plots the loss curve\n",
    "        '''\n",
    "        plt.plot(self.loss)\n",
    "        plt.xlabel(\"Iteration\")\n",
    "        plt.ylabel(\"logloss\")\n",
    "        plt.title(\"Loss curve for training\")\n",
    "        plt.show()"
   ]
  },
  {
   "cell_type": "code",
   "execution_count": 36,
   "metadata": {},
   "outputs": [],
   "source": [
    "#Create object of class Neural net\n",
    "nn = NeuralNet(layers=[13,8,1], learning_rate=0.001, iterations=200) # create the NN model\n",
    "\n",
    "#Fit the train dataset to this object - training the model\n",
    "nn.fit(Xtrain, ytrain) #train the model"
   ]
  },
  {
   "cell_type": "code",
   "execution_count": 37,
   "metadata": {},
   "outputs": [
    {
     "data": {
      "image/png": "[encoded data removed]",
      "text/plain": [
       "<Figure size 432x288 with 1 Axes>"
      ]
     },
     "metadata": {
      "needs_background": "light"
     },
     "output_type": "display_data"
    }
   ],
   "source": [
    "#Plot the loss \n",
    "nn.plot_loss()"
   ]
  },
  {
   "cell_type": "code",
   "execution_count": 38,
   "metadata": {},
   "outputs": [
    {
     "name": "stdout",
     "output_type": "stream",
     "text": [
      "Train accuracy is 89\n",
      "Test accuracy is 75\n"
     ]
    }
   ],
   "source": [
    "#Predict the train and test data \n",
    "train_pred = nn.predict(Xtrain)\n",
    "test_pred = nn.predict(Xtest)\n",
    "\n",
    "#Calculate the accuracy of the train and test datasets\n",
    "print(\"Train accuracy is {}\".format(nn.acc(ytrain, train_pred)))\n",
    "print(\"Test accuracy is {}\".format(nn.acc(ytest, test_pred)))"
   ]
  },
  {
   "cell_type": "markdown",
   "metadata": {},
   "source": [
    "## Creating neural net with Python libraries"
   ]
  },
  {
   "cell_type": "markdown",
   "metadata": {},
   "source": [
    "## With help of Scikit-learn"
   ]
  },
  {
   "cell_type": "code",
   "execution_count": 39,
   "metadata": {},
   "outputs": [],
   "source": [
    "#With scikit learn - with multilayer perceptron classifier\n",
    "from sklearn.neural_network import MLPClassifier\n",
    "from sklearn.metrics import accuracy_score\n",
    "\n",
    "sknet = MLPClassifier(hidden_layer_sizes=(8), learning_rate_init=0.001, max_iter=100)"
   ]
  },
  {
   "cell_type": "code",
   "execution_count": 40,
   "metadata": {},
   "outputs": [
    {
     "name": "stdout",
     "output_type": "stream",
     "text": [
      "Train accuracy of sklearn neural network: 81.0\n",
      "Test accuracy of sklearn neural network: 72.0\n"
     ]
    }
   ],
   "source": [
    "#Fit the data to the classifier model\n",
    "sknet.fit(Xtrain, ytrain)\n",
    "preds_train = sknet.predict(Xtrain)\n",
    "preds_test = sknet.predict(Xtest)\n",
    "\n",
    "#Print the accuracy of the train and test datasets\n",
    "print(\"Train accuracy of sklearn neural network: {}\".format(round(accuracy_score(preds_train, ytrain),2)*100))\n",
    "print(\"Test accuracy of sklearn neural network: {}\".format(round(accuracy_score(preds_test, ytest),2)*100))"
   ]
  },
  {
   "cell_type": "markdown",
   "metadata": {},
   "source": [
    "## With the help of Keras"
   ]
  },
  {
   "cell_type": "code",
   "execution_count": 41,
   "metadata": {},
   "outputs": [],
   "source": [
    "#With Keras\n",
    "from tensorflow.keras import Sequential\n",
    "from tensorflow.keras.layers import Dense\n",
    "from tensorflow.keras.optimizers import Adam\n",
    "\n",
    "#Define the model\n",
    "model = Sequential()\n",
    "model.add(Dense(8,input_shape=(13,)))\n",
    "model.add(Dense(1, activation='sigmoid'))"
   ]
  },
  {
   "cell_type": "code",
   "execution_count": 42,
   "metadata": {},
   "outputs": [],
   "source": [
    "# compile the model\n",
    "opt = Adam(learning_rate=0.001)\n",
    "model.compile(optimizer=opt, loss='binary_crossentropy', metrics=['accuracy'])"
   ]
  },
  {
   "cell_type": "code",
   "execution_count": 43,
   "metadata": {},
   "outputs": [
    {
     "name": "stdout",
     "output_type": "stream",
     "text": [
      "Epoch 1/100\n",
      "7/7 [==============================] - 0s 831us/step - loss: 0.7159 - accuracy: 0.5665\n",
      "Epoch 2/100\n",
      "7/7 [==============================] - 0s 665us/step - loss: 0.6558 - accuracy: 0.6389\n",
      "Epoch 3/100\n",
      "7/7 [==============================] - 0s 499us/step - loss: 0.6628 - accuracy: 0.6696\n",
      "Epoch 4/100\n",
      "7/7 [==============================] - 0s 499us/step - loss: 0.5574 - accuracy: 0.6931\n",
      "Epoch 5/100\n",
      "7/7 [==============================] - 0s 831us/step - loss: 0.5451 - accuracy: 0.7181\n",
      "Epoch 6/100\n",
      "7/7 [==============================] - 0s 665us/step - loss: 0.5572 - accuracy: 0.7151\n",
      "Epoch 7/100\n",
      "7/7 [==============================] - 0s 664us/step - loss: 0.5042 - accuracy: 0.7637\n",
      "Epoch 8/100\n",
      "7/7 [==============================] - 0s 665us/step - loss: 0.5021 - accuracy: 0.7607\n",
      "Epoch 9/100\n",
      "7/7 [==============================] - 0s 499us/step - loss: 0.4532 - accuracy: 0.8076\n",
      "Epoch 10/100\n",
      "7/7 [==============================] - 0s 664us/step - loss: 0.4485 - accuracy: 0.7845\n",
      "Epoch 11/100\n",
      "7/7 [==============================] - 0s 665us/step - loss: 0.4413 - accuracy: 0.8143\n",
      "Epoch 12/100\n",
      "7/7 [==============================] - 0s 499us/step - loss: 0.4433 - accuracy: 0.8044\n",
      "Epoch 13/100\n",
      "7/7 [==============================] - 0s 499us/step - loss: 0.4127 - accuracy: 0.8451\n",
      "Epoch 14/100\n",
      "7/7 [==============================] - 0s 665us/step - loss: 0.4434 - accuracy: 0.8142\n",
      "Epoch 15/100\n",
      "7/7 [==============================] - 0s 499us/step - loss: 0.4114 - accuracy: 0.8437\n",
      "Epoch 16/100\n",
      "7/7 [==============================] - 0s 665us/step - loss: 0.3317 - accuracy: 0.8717\n",
      "Epoch 17/100\n",
      "7/7 [==============================] - 0s 665us/step - loss: 0.4145 - accuracy: 0.8278\n",
      "Epoch 18/100\n",
      "7/7 [==============================] - 0s 499us/step - loss: 0.3990 - accuracy: 0.8182\n",
      "Epoch 19/100\n",
      "7/7 [==============================] - 0s 499us/step - loss: 0.3798 - accuracy: 0.8355\n",
      "Epoch 20/100\n",
      "7/7 [==============================] - 0s 665us/step - loss: 0.3415 - accuracy: 0.8545\n",
      "Epoch 21/100\n",
      "7/7 [==============================] - 0s 498us/step - loss: 0.3957 - accuracy: 0.8125\n",
      "Epoch 22/100\n",
      "7/7 [==============================] - 0s 665us/step - loss: 0.4167 - accuracy: 0.7986\n",
      "Epoch 23/100\n",
      "7/7 [==============================] - 0s 665us/step - loss: 0.3445 - accuracy: 0.8345\n",
      "Epoch 24/100\n",
      "7/7 [==============================] - 0s 665us/step - loss: 0.3664 - accuracy: 0.8246\n",
      "Epoch 25/100\n",
      "7/7 [==============================] - 0s 665us/step - loss: 0.3384 - accuracy: 0.8566\n",
      "Epoch 26/100\n",
      "7/7 [==============================] - 0s 665us/step - loss: 0.3312 - accuracy: 0.8632\n",
      "Epoch 27/100\n",
      "7/7 [==============================] - 0s 665us/step - loss: 0.3025 - accuracy: 0.8634\n",
      "Epoch 28/100\n",
      "7/7 [==============================] - 0s 831us/step - loss: 0.3532 - accuracy: 0.8452\n",
      "Epoch 29/100\n",
      "7/7 [==============================] - 0s 498us/step - loss: 0.3342 - accuracy: 0.8205\n",
      "Epoch 30/100\n",
      "7/7 [==============================] - 0s 665us/step - loss: 0.3371 - accuracy: 0.8280\n",
      "Epoch 31/100\n",
      "7/7 [==============================] - 0s 664us/step - loss: 0.3293 - accuracy: 0.8481\n",
      "Epoch 32/100\n",
      "7/7 [==============================] - 0s 499us/step - loss: 0.3355 - accuracy: 0.8431\n",
      "Epoch 33/100\n",
      "7/7 [==============================] - 0s 665us/step - loss: 0.3508 - accuracy: 0.8542\n",
      "Epoch 34/100\n",
      "7/7 [==============================] - 0s 665us/step - loss: 0.3140 - accuracy: 0.8600\n",
      "Epoch 35/100\n",
      "7/7 [==============================] - 0s 665us/step - loss: 0.3213 - accuracy: 0.8660\n",
      "Epoch 36/100\n",
      "7/7 [==============================] - 0s 665us/step - loss: 0.3263 - accuracy: 0.8477\n",
      "Epoch 37/100\n",
      "7/7 [==============================] - 0s 499us/step - loss: 0.3051 - accuracy: 0.8602\n",
      "Epoch 38/100\n",
      "7/7 [==============================] - 0s 665us/step - loss: 0.3173 - accuracy: 0.8521\n",
      "Epoch 39/100\n",
      "7/7 [==============================] - 0s 665us/step - loss: 0.2977 - accuracy: 0.8717\n",
      "Epoch 40/100\n",
      "7/7 [==============================] - 0s 498us/step - loss: 0.3485 - accuracy: 0.8425\n",
      "Epoch 41/100\n",
      "7/7 [==============================] - 0s 499us/step - loss: 0.3480 - accuracy: 0.8343\n",
      "Epoch 42/100\n",
      "7/7 [==============================] - 0s 665us/step - loss: 0.3371 - accuracy: 0.8352\n",
      "Epoch 43/100\n",
      "7/7 [==============================] - 0s 499us/step - loss: 0.3367 - accuracy: 0.8463\n",
      "Epoch 44/100\n",
      "7/7 [==============================] - 0s 665us/step - loss: 0.3014 - accuracy: 0.8578\n",
      "Epoch 45/100\n",
      "7/7 [==============================] - 0s 665us/step - loss: 0.3252 - accuracy: 0.8483\n",
      "Epoch 46/100\n",
      "7/7 [==============================] - 0s 499us/step - loss: 0.3262 - accuracy: 0.8479\n",
      "Epoch 47/100\n",
      "7/7 [==============================] - 0s 666us/step - loss: 0.3286 - accuracy: 0.8438\n",
      "Epoch 48/100\n",
      "7/7 [==============================] - 0s 665us/step - loss: 0.3109 - accuracy: 0.8463\n",
      "Epoch 49/100\n",
      "7/7 [==============================] - 0s 665us/step - loss: 0.3145 - accuracy: 0.8462\n",
      "Epoch 50/100\n",
      "7/7 [==============================] - 0s 665us/step - loss: 0.3236 - accuracy: 0.8359\n",
      "Epoch 51/100\n",
      "7/7 [==============================] - 0s 498us/step - loss: 0.3160 - accuracy: 0.8438\n",
      "Epoch 52/100\n",
      "7/7 [==============================] - 0s 831us/step - loss: 0.3498 - accuracy: 0.8251\n",
      "Epoch 53/100\n",
      "7/7 [==============================] - 0s 665us/step - loss: 0.3104 - accuracy: 0.8663\n",
      "Epoch 54/100\n",
      "7/7 [==============================] - 0s 665us/step - loss: 0.3172 - accuracy: 0.8468\n",
      "Epoch 55/100\n",
      "7/7 [==============================] - 0s 664us/step - loss: 0.2791 - accuracy: 0.8734\n",
      "Epoch 56/100\n",
      "7/7 [==============================] - 0s 665us/step - loss: 0.3254 - accuracy: 0.8496\n",
      "Epoch 57/100\n",
      "7/7 [==============================] - 0s 499us/step - loss: 0.3316 - accuracy: 0.8284\n",
      "Epoch 58/100\n",
      "7/7 [==============================] - 0s 665us/step - loss: 0.3307 - accuracy: 0.8590\n",
      "Epoch 59/100\n",
      "7/7 [==============================] - 0s 499us/step - loss: 0.2820 - accuracy: 0.8538\n",
      "Epoch 60/100\n",
      "7/7 [==============================] - 0s 665us/step - loss: 0.3030 - accuracy: 0.8469\n",
      "Epoch 61/100\n",
      "7/7 [==============================] - 0s 665us/step - loss: 0.3203 - accuracy: 0.8463\n",
      "Epoch 62/100\n",
      "7/7 [==============================] - 0s 665us/step - loss: 0.2757 - accuracy: 0.8644\n",
      "Epoch 63/100\n",
      "7/7 [==============================] - 0s 831us/step - loss: 0.2827 - accuracy: 0.8718\n",
      "Epoch 64/100\n",
      "7/7 [==============================] - 0s 665us/step - loss: 0.2988 - accuracy: 0.8617\n",
      "Epoch 65/100\n",
      "7/7 [==============================] - 0s 499us/step - loss: 0.2804 - accuracy: 0.8715\n",
      "Epoch 66/100\n",
      "7/7 [==============================] - 0s 831us/step - loss: 0.2706 - accuracy: 0.8859\n",
      "Epoch 67/100\n",
      "7/7 [==============================] - 0s 498us/step - loss: 0.3089 - accuracy: 0.8580\n",
      "Epoch 68/100\n",
      "7/7 [==============================] - 0s 499us/step - loss: 0.2597 - accuracy: 0.8958\n",
      "Epoch 69/100\n",
      "7/7 [==============================] - 0s 665us/step - loss: 0.2514 - accuracy: 0.8831\n",
      "Epoch 70/100\n",
      "7/7 [==============================] - 0s 499us/step - loss: 0.3047 - accuracy: 0.8724\n",
      "Epoch 71/100\n",
      "7/7 [==============================] - 0s 499us/step - loss: 0.2853 - accuracy: 0.8755\n",
      "Epoch 72/100\n",
      "7/7 [==============================] - 0s 498us/step - loss: 0.2480 - accuracy: 0.8928\n",
      "Epoch 73/100\n",
      "7/7 [==============================] - 0s 665us/step - loss: 0.2676 - accuracy: 0.8783\n",
      "Epoch 74/100\n",
      "7/7 [==============================] - 0s 499us/step - loss: 0.2756 - accuracy: 0.8805\n",
      "Epoch 75/100\n",
      "7/7 [==============================] - 0s 664us/step - loss: 0.2993 - accuracy: 0.8700\n",
      "Epoch 76/100\n",
      "7/7 [==============================] - 0s 499us/step - loss: 0.2948 - accuracy: 0.8735\n",
      "Epoch 77/100\n",
      "7/7 [==============================] - 0s 499us/step - loss: 0.2920 - accuracy: 0.8651\n",
      "Epoch 78/100\n",
      "7/7 [==============================] - 0s 499us/step - loss: 0.2940 - accuracy: 0.8662\n",
      "Epoch 79/100\n",
      "7/7 [==============================] - 0s 498us/step - loss: 0.2563 - accuracy: 0.8798\n",
      "Epoch 80/100\n",
      "7/7 [==============================] - 0s 499us/step - loss: 0.3047 - accuracy: 0.8507\n",
      "Epoch 81/100\n",
      "7/7 [==============================] - 0s 665us/step - loss: 0.3204 - accuracy: 0.8579\n",
      "Epoch 82/100\n",
      "7/7 [==============================] - 0s 665us/step - loss: 0.3034 - accuracy: 0.8513\n",
      "Epoch 83/100\n"
     ]
    },
    {
     "name": "stdout",
     "output_type": "stream",
     "text": [
      "7/7 [==============================] - 0s 665us/step - loss: 0.2590 - accuracy: 0.8845\n",
      "Epoch 84/100\n",
      "7/7 [==============================] - 0s 499us/step - loss: 0.3050 - accuracy: 0.8417\n",
      "Epoch 85/100\n",
      "7/7 [==============================] - 0s 665us/step - loss: 0.2550 - accuracy: 0.8918\n",
      "Epoch 86/100\n",
      "7/7 [==============================] - 0s 665us/step - loss: 0.2974 - accuracy: 0.8732\n",
      "Epoch 87/100\n",
      "7/7 [==============================] - 0s 665us/step - loss: 0.2860 - accuracy: 0.8717\n",
      "Epoch 88/100\n",
      "7/7 [==============================] - 0s 499us/step - loss: 0.3003 - accuracy: 0.8567\n",
      "Epoch 89/100\n",
      "7/7 [==============================] - 0s 831us/step - loss: 0.3263 - accuracy: 0.8547\n",
      "Epoch 90/100\n",
      "7/7 [==============================] - 0s 499us/step - loss: 0.3085 - accuracy: 0.8647\n",
      "Epoch 91/100\n",
      "7/7 [==============================] - 0s 499us/step - loss: 0.2850 - accuracy: 0.8678\n",
      "Epoch 92/100\n",
      "7/7 [==============================] - 0s 831us/step - loss: 0.3382 - accuracy: 0.8522\n",
      "Epoch 93/100\n",
      "7/7 [==============================] - 0s 665us/step - loss: 0.2673 - accuracy: 0.8903\n",
      "Epoch 94/100\n",
      "7/7 [==============================] - 0s 499us/step - loss: 0.3059 - accuracy: 0.8583\n",
      "Epoch 95/100\n",
      "7/7 [==============================] - 0s 831us/step - loss: 0.2830 - accuracy: 0.8619\n",
      "Epoch 96/100\n",
      "7/7 [==============================] - 0s 665us/step - loss: 0.2781 - accuracy: 0.8785\n",
      "Epoch 97/100\n",
      "7/7 [==============================] - 0s 499us/step - loss: 0.3249 - accuracy: 0.8488\n",
      "Epoch 98/100\n",
      "7/7 [==============================] - 0s 664us/step - loss: 0.2582 - accuracy: 0.9025\n",
      "Epoch 99/100\n",
      "7/7 [==============================] - 0s 499us/step - loss: 0.2824 - accuracy: 0.8750\n",
      "Epoch 100/100\n",
      "7/7 [==============================] - 0s 499us/step - loss: 0.2748 - accuracy: 0.8819\n",
      "7/7 [==============================] - 0s 662us/step - loss: 0.2893 - accuracy: 0.8704\n",
      "2/2 [==============================] - 0s 1ms/step - loss: 0.5816 - accuracy: 0.7407\n",
      "Train accuracy of keras neural network: 87.04\n",
      "Test accuracy of keras neural network: 74.07\n"
     ]
    }
   ],
   "source": [
    "#Fitting the model to data - Training \n",
    "model.fit(Xtrain, ytrain, epochs=100, verbose=1)\n",
    "\n",
    "#Calculate the train accuracy\n",
    "train_acc = model.evaluate(Xtrain, ytrain, verbose=1)[1]\n",
    "# print(train_acc)\n",
    "\n",
    "#Calculate the test accuracy\n",
    "test_acc = model.evaluate(Xtest, ytest, verbose=1)[1]\n",
    "# print(test_acc)\n",
    "\n",
    "print(\"Train accuracy of keras neural network: {}\".format(round((train_acc * 100), 2)))\n",
    "print(\"Test accuracy of keras neural network: {}\".format(round((test_acc * 100),2)))"
   ]
  },
  {
   "cell_type": "markdown",
   "metadata": {},
   "source": [
    "## Saving Keras Model"
   ]
  },
  {
   "cell_type": "code",
   "execution_count": 44,
   "metadata": {},
   "outputs": [
    {
     "name": "stdout",
     "output_type": "stream",
     "text": [
      "Saved model to disk\n"
     ]
    }
   ],
   "source": [
    "#save Keras models\n",
    "#save model and architecture to single file\n",
    "model.save(\"model.h5\")\n",
    "print(\"Saved model to disk\")"
   ]
  },
  {
   "cell_type": "markdown",
   "metadata": {},
   "source": [
    "## Loading Keras Model"
   ]
  },
  {
   "cell_type": "code",
   "execution_count": 45,
   "metadata": {},
   "outputs": [
    {
     "name": "stdout",
     "output_type": "stream",
     "text": [
      "Model: \"sequential_2\"\n",
      "_________________________________________________________________\n",
      "Layer (type)                 Output Shape              Param #   \n",
      "=================================================================\n",
      "dense_4 (Dense)              (None, 8)                 112       \n",
      "_________________________________________________________________\n",
      "dense_5 (Dense)              (None, 1)                 9         \n",
      "=================================================================\n",
      "Total params: 121\n",
      "Trainable params: 121\n",
      "Non-trainable params: 0\n",
      "_________________________________________________________________\n"
     ]
    }
   ],
   "source": [
    "#load saved keras model and use it again\n",
    "from numpy import loadtxt\n",
    "from tensorflow.keras.models import load_model\n",
    " \n",
    "#Load model\n",
    "model = load_model(\"model.h5\")\n",
    "\n",
    "#Summarize model\n",
    "model.summary()"
   ]
  }
 ],
 "metadata": {
  "kernelspec": {
   "display_name": "Python 3",
   "language": "python",
   "name": "python3"
  },
  "language_info": {
   "codemirror_mode": {
    "name": "ipython",
    "version": 3
   },
   "file_extension": ".py",
   "mimetype": "text/x-python",
   "name": "python",
   "nbconvert_exporter": "python",
   "pygments_lexer": "ipython3",
   "version": "3.7.9"
  }
 },
 "nbformat": 4,
 "nbformat_minor": 4
}
